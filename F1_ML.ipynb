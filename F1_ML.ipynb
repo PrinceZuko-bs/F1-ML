{
  "nbformat": 4,
  "nbformat_minor": 0,
  "metadata": {
    "colab": {
      "name": "F1_ML.ipynb",
      "provenance": [],
      "authorship_tag": "ABX9TyNvM3rNwv08YnvOFYztzhuM",
      "include_colab_link": true
    },
    "kernelspec": {
      "name": "python3",
      "display_name": "Python 3"
    },
    "language_info": {
      "name": "python"
    }
  },
  "cells": [
    {
      "cell_type": "markdown",
      "metadata": {
        "id": "view-in-github",
        "colab_type": "text"
      },
      "source": [
        "<a href=\"https://colab.research.google.com/github/PrinceZuko-bs/F1-ML/blob/main/F1_ML.ipynb\" target=\"_parent\"><img src=\"https://colab.research.google.com/assets/colab-badge.svg\" alt=\"Open In Colab\"/></a>"
      ]
    },
    {
      "cell_type": "code",
      "metadata": {
        "colab": {
          "base_uri": "https://localhost:8080/"
        },
        "id": "YfrBTGAX6-kA",
        "outputId": "86c6568f-50aa-4c39-9a6f-81f59ce5e240"
      },
      "source": [
        "import csv\n",
        "import pandas as pd\n",
        "print('imported modules')"
      ],
      "execution_count": 1,
      "outputs": [
        {
          "output_type": "stream",
          "text": [
            "imported modules\n"
          ],
          "name": "stdout"
        }
      ]
    },
    {
      "cell_type": "code",
      "metadata": {
        "colab": {
          "base_uri": "https://localhost:8080/"
        },
        "id": "zz5mEGyd6k-O",
        "outputId": "c4d90279-9caa-4e95-f447-c730612c6f52"
      },
      "source": [
        "\n",
        "\n",
        "with open('f1.csv') as f:\n",
        "    data=[tuple(line) for line in csv.reader(f)]\n",
        "\n",
        "print(data[1])\n",
        "\n",
        "df = pd.read_csv ('f1.csv')\n",
        "\n",
        "simple_df = df.drop(columns=['number', 'positionText', 'positionOrder', 'points', 'laps', 'time', 'milliseconds', 'fastestLap', 'fastestLapTime', 'fastestLapSpeed', 'statusId'])\n",
        "\n",
        "\n",
        "df['position'] = pd.to_numeric(df['position'])\n",
        "\n",
        "print(simple_df.head())\n",
        "\n",
        "tuple_form = list(simple_df.itertuples(index=False, name=None))\n",
        "\n",
        "print(tuple_form[0])\n"
      ],
      "execution_count": 4,
      "outputs": [
        {
          "output_type": "stream",
          "text": [
            "('24966', '1052', '1', '131', '44', '2', '1', '1', '1', '25', '56', '1:32:04', '5523897', '44', '4', '1:34.015', '207.235', '1')\n",
            "   resultId  raceId  driverId  constructorId  grid  position  rank\n",
            "0     24966    1052         1            131     2         1     4\n",
            "1     24967    1052       830              9     1         2     2\n",
            "2     24968    1052       822            131     3         3     1\n",
            "3     24969    1052       846              1     7         4     6\n",
            "4     24970    1052       815              9     0         5     3\n",
            "(24966, 1052, 1, 131, 2, 1, 4)\n"
          ],
          "name": "stdout"
        }
      ]
    }
  ]
}