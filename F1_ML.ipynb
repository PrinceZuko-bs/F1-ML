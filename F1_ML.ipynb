{
  "nbformat": 4,
  "nbformat_minor": 0,
  "metadata": {
    "colab": {
      "name": "F1_ML.ipynb",
      "provenance": [],
      "authorship_tag": "ABX9TyNLVX/5uwlWsFN51BEGnGXF",
      "include_colab_link": true
    },
    "kernelspec": {
      "name": "python3",
      "display_name": "Python 3"
    },
    "language_info": {
      "name": "python"
    }
  },
  "cells": [
    {
      "cell_type": "markdown",
      "metadata": {
        "id": "view-in-github",
        "colab_type": "text"
      },
      "source": [
        "<a href=\"https://colab.research.google.com/github/PrinceZuko-bs/F1-ML/blob/main/F1_ML.ipynb\" target=\"_parent\"><img src=\"https://colab.research.google.com/assets/colab-badge.svg\" alt=\"Open In Colab\"/></a>"
      ]
    },
    {
      "cell_type": "code",
      "metadata": {
        "colab": {
          "base_uri": "https://localhost:8080/"
        },
        "id": "YfrBTGAX6-kA",
        "outputId": "ced5bb7f-5ac2-4010-e1fb-ce29e3f3505f"
      },
      "source": [
        "import csv\n",
        "import pandas as pd\n",
        "print('imported modules')"
      ],
      "execution_count": 2,
      "outputs": [
        {
          "output_type": "stream",
          "text": [
            "imported modules\n"
          ],
          "name": "stdout"
        }
      ]
    },
    {
      "cell_type": "code",
      "metadata": {
        "colab": {
          "base_uri": "https://localhost:8080/"
        },
        "id": "zz5mEGyd6k-O",
        "outputId": "e8f826c0-19de-4906-8883-e69b511aee9d"
      },
      "source": [
        "\n",
        "\n",
        "with open('f1.csv') as f:\n",
        "    data=[tuple(line) for line in csv.reader(f)]\n",
        "\n",
        "print(data[1])\n",
        "\n",
        "df = pd.read_csv ('f1.csv')\n",
        "\n",
        "simple_df = df.drop(columns=['number', 'positionText', 'positionOrder', 'points', 'laps', 'time', 'milliseconds', 'fastestLap', 'fastestLapTime', 'fastestLapSpeed', 'statusId'])\n",
        "\n",
        "#print(simple_df)\n",
        "df['position'] = pd.to_numeric(df['position'])\n",
        "\n",
        "tuple_form = list(simple_df.itertuples(index=False, name=None))\n",
        "\n",
        "#print(tuple_form)\n"
      ],
      "execution_count": 20,
      "outputs": [
        {
          "output_type": "stream",
          "text": [
            "('24966', '1052', '1', '131', '44', '2', '1', '1', '1', '25', '56', '1:32:04', '5523897', '44', '4', '1:34.015', '207.235', '1')\n"
          ],
          "name": "stdout"
        }
      ]
    }
  ]
}